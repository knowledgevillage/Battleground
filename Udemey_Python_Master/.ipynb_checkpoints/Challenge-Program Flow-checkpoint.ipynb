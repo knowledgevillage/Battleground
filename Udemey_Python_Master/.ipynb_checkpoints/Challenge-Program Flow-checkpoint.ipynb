{
 "cells": [
  {
   "cell_type": "code",
   "execution_count": 8,
   "metadata": {},
   "outputs": [
    {
     "name": "stdout",
     "output_type": "stream",
     "text": [
      "Please enter your IP address :\n",
      "Length of segment 1 is 0\n"
     ]
    }
   ],
   "source": [
    "ipAddress=input(\"Please enter your IP address :\")\n",
    "\n",
    "segment=1\n",
    "segmentLength=0\n",
    "\n",
    "for char in ipAddress:\n",
    "    if char=='.':\n",
    "        print(\"Length of segment {} is {}\".format(segment,segmentLength))\n",
    "        segment+=1\n",
    "        segmentLength=0\n",
    "        \n",
    "    else:\n",
    "        segmentLength+=1\n",
    "else:\n",
    "    print(\"Length of segment {} is {}\".format(segment,segmentLength))"
   ]
  }
 ],
 "metadata": {
  "kernelspec": {
   "display_name": "Python 3",
   "language": "python",
   "name": "python3"
  },
  "language_info": {
   "codemirror_mode": {
    "name": "ipython",
    "version": 3
   },
   "file_extension": ".py",
   "mimetype": "text/x-python",
   "name": "python",
   "nbconvert_exporter": "python",
   "pygments_lexer": "ipython3",
   "version": "3.7.3"
  }
 },
 "nbformat": 4,
 "nbformat_minor": 2
}
