{
 "cells": [
  {
   "cell_type": "code",
   "execution_count": 15,
   "metadata": {},
   "outputs": [
    {
     "name": "stdout",
     "output_type": "stream",
     "text": [
      "Please guess a number between 1 and 10\n",
      "2\n",
      "Guess a higher number\n",
      "Please guess a number between 1 and 10\n",
      "9\n",
      "Sorry, you have not guessed it correctly\n"
     ]
    }
   ],
   "source": [
    "import random\n",
    "highest=10\n",
    "guess=int(input(\"Please guess a number between 1 and {}\\n\".format(highest)))\n",
    "answer=random.randint(1,highest)\n",
    "if guess!=answer:\n",
    "    if guess < answer:\n",
    "        print(\"Guess a higher number\")\n",
    "    else:\n",
    "        print(\"Guess a lower number\")\n",
    "        \n",
    "    guess=int(input(\"Please guess a number between 1 and {}\\n\".format(highest)))\n",
    "    if guess==answer:\n",
    "        print(\"You guessed is correctly\")\n",
    "    else:\n",
    "        print(\"Sorry, you have not guessed it correctly\")\n",
    "else:\n",
    "    print(\"You got it first time\")"
   ]
  }
 ],
 "metadata": {
  "kernelspec": {
   "display_name": "Python 3",
   "language": "python",
   "name": "python3"
  },
  "language_info": {
   "codemirror_mode": {
    "name": "ipython",
    "version": 3
   },
   "file_extension": ".py",
   "mimetype": "text/x-python",
   "name": "python",
   "nbconvert_exporter": "python",
   "pygments_lexer": "ipython3",
   "version": "3.7.3"
  }
 },
 "nbformat": 4,
 "nbformat_minor": 2
}
