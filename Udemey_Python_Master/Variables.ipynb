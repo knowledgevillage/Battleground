{
 "cells": [
  {
   "cell_type": "code",
   "execution_count": 1,
   "metadata": {},
   "outputs": [
    {
     "name": "stdout",
     "output_type": "stream",
     "text": [
      "Hello Bruce\n",
      "24\n"
     ]
    },
    {
     "ename": "TypeError",
     "evalue": "can only concatenate str (not \"int\") to str",
     "output_type": "error",
     "traceback": [
      "\u001b[1;31m---------------------------------------------------------------------------\u001b[0m",
      "\u001b[1;31mTypeError\u001b[0m                                 Traceback (most recent call last)",
      "\u001b[1;32m<ipython-input-1-42daf23c62d6>\u001b[0m in \u001b[0;36m<module>\u001b[1;34m\u001b[0m\n\u001b[0;32m     11\u001b[0m \u001b[0mprint\u001b[0m\u001b[1;33m(\u001b[0m\u001b[0mage\u001b[0m\u001b[1;33m)\u001b[0m\u001b[1;33m\u001b[0m\u001b[1;33m\u001b[0m\u001b[0m\n\u001b[0;32m     12\u001b[0m \u001b[1;33m\u001b[0m\u001b[0m\n\u001b[1;32m---> 13\u001b[1;33m \u001b[0mprint\u001b[0m\u001b[1;33m(\u001b[0m\u001b[0mgreeting\u001b[0m\u001b[1;33m+\u001b[0m\u001b[1;34m' '\u001b[0m\u001b[1;33m+\u001b[0m\u001b[0mage\u001b[0m\u001b[1;33m)\u001b[0m\u001b[1;33m\u001b[0m\u001b[1;33m\u001b[0m\u001b[0m\n\u001b[0m",
      "\u001b[1;31mTypeError\u001b[0m: can only concatenate str (not \"int\") to str"
     ]
    }
   ],
   "source": [
    "__author__='dev'\n",
    "greeting='Bruce'\n",
    "_myName='Tim'\n",
    "Tim45=\"Good\"\n",
    "Tim_Was_57=\"Hello\"\n",
    "Greeting=\"There\"\n",
    "\n",
    "print(Tim_Was_57+' '+greeting)\n",
    "\n",
    "age=24\n",
    "print(age)\n",
    "\n",
    "print(greeting+' '+age)\n"
   ]
  },
  {
   "cell_type": "code",
   "execution_count": 4,
   "metadata": {},
   "outputs": [
    {
     "name": "stdout",
     "output_type": "stream",
     "text": [
      "15\n",
      "9\n",
      "36\n",
      "4.0\n",
      "4\n",
      "0\n"
     ]
    }
   ],
   "source": [
    "a=12\n",
    "b=3\n",
    "print(a+b)\n",
    "print(a-b)\n",
    "print(a*b)\n",
    "print(a/b)\n",
    "print(a//b)\n",
    "print(a%b)"
   ]
  },
  {
   "cell_type": "code",
   "execution_count": 7,
   "metadata": {},
   "outputs": [
    {
     "name": "stdout",
     "output_type": "stream",
     "text": [
      "-35.0\n"
     ]
    }
   ],
   "source": [
    "print(a+b/ 3-4 * 12)"
   ]
  },
  {
   "cell_type": "code",
   "execution_count": 9,
   "metadata": {},
   "outputs": [
    {
     "name": "stdout",
     "output_type": "stream",
     "text": [
      "Norwegain Blue\n",
      "N\n",
      "w\n",
      "e\n",
      "Norweg\n",
      "Norweg\n",
      "ain Blue\n",
      "Bl\n",
      "Nre\n",
      "Nw\n",
      ",,,,\n"
     ]
    }
   ],
   "source": [
    "parrot=\"Norwegain Blue\"\n",
    "print(parrot)\n",
    "print(parrot[0])\n",
    "print(parrot[3])\n",
    "print(parrot[-1])\n",
    "print(parrot[0:6])\n",
    "print(parrot[:6])\n",
    "print(parrot[6:])\n",
    "print(parrot[-4:-2])\n",
    "print(parrot[0:6:2])\n",
    "print(parrot[0:6:3])\n",
    "number=\"9,223,372,455,768\"\n",
    "print(number[1::4])\n"
   ]
  },
  {
   "cell_type": "code",
   "execution_count": 18,
   "metadata": {},
   "outputs": [
    {
     "name": "stdout",
     "output_type": "stream",
     "text": [
      "123456789\n",
      "hello\n",
      "hello hello hello hello hello \n",
      "hello hello hello hello hello hello hello hello hello \n",
      "True\n",
      "False\n"
     ]
    }
   ],
   "source": [
    "numbers=\"1, 2, 3, 4, 5, 6, 7, 8, 9\"\n",
    "print(numbers[0::3])\n",
    "string_1=\"He's \"\n",
    "string_2=\"probably \"\n",
    "print(\"hello\")\n",
    "print(\"hello \" *5)\n",
    "#print(\"hello\" *5 +4) ---  can only concatenate str (not \"int\") to str\n",
    "print(\"hello \" * (5+4))\n",
    "today=\"Friday\"\n",
    "print(\"day\" in today)\n",
    "print(\"fri\" in today)\n"
   ]
  },
  {
   "cell_type": "code",
   "execution_count": null,
   "metadata": {},
   "outputs": [],
   "source": []
  }
 ],
 "metadata": {
  "kernelspec": {
   "display_name": "Python 3",
   "language": "python",
   "name": "python3"
  },
  "language_info": {
   "codemirror_mode": {
    "name": "ipython",
    "version": 3
   },
   "file_extension": ".py",
   "mimetype": "text/x-python",
   "name": "python",
   "nbconvert_exporter": "python",
   "pygments_lexer": "ipython3",
   "version": "3.7.3"
  }
 },
 "nbformat": 4,
 "nbformat_minor": 2
}
