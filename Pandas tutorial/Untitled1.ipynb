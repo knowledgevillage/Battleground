{
 "cells": [
  {
   "cell_type": "code",
   "execution_count": 3,
   "metadata": {},
   "outputs": [],
   "source": [
    "import pandas as pd"
   ]
  },
  {
   "cell_type": "code",
   "execution_count": 13,
   "metadata": {},
   "outputs": [],
   "source": [
    "def create_date_table2(start='2000-01-01', end='2099-12-31'):\n",
    "    df = pd.DataFrame({\"Date\": pd.date_range(start, end)})\n",
    "    df[\"Day\"] = df.Date.dt.weekday_name\n",
    "    df[\"Week\"] = df.Date.dt.weekofyear\n",
    "    df[\"Quarter\"] = df.Date.dt.quarter\n",
    "    df[\"Year\"] = df.Date.dt.year\n",
    "    df[\"Year_half\"] = (df.Quarter + 1) // 2\n",
    "    return df"
   ]
  },
  {
   "cell_type": "code",
   "execution_count": 15,
   "metadata": {},
   "outputs": [
    {
     "data": {
      "text/html": [
       "<div>\n",
       "<style scoped>\n",
       "    .dataframe tbody tr th:only-of-type {\n",
       "        vertical-align: middle;\n",
       "    }\n",
       "\n",
       "    .dataframe tbody tr th {\n",
       "        vertical-align: top;\n",
       "    }\n",
       "\n",
       "    .dataframe thead th {\n",
       "        text-align: right;\n",
       "    }\n",
       "</style>\n",
       "<table border=\"1\" class=\"dataframe\">\n",
       "  <thead>\n",
       "    <tr style=\"text-align: right;\">\n",
       "      <th></th>\n",
       "      <th>Date</th>\n",
       "      <th>Day</th>\n",
       "      <th>Week</th>\n",
       "      <th>Quarter</th>\n",
       "      <th>Year</th>\n",
       "      <th>Year_half</th>\n",
       "    </tr>\n",
       "  </thead>\n",
       "  <tbody>\n",
       "    <tr>\n",
       "      <th>36520</th>\n",
       "      <td>2099-12-27</td>\n",
       "      <td>Sunday</td>\n",
       "      <td>52</td>\n",
       "      <td>4</td>\n",
       "      <td>2099</td>\n",
       "      <td>2</td>\n",
       "    </tr>\n",
       "    <tr>\n",
       "      <th>36521</th>\n",
       "      <td>2099-12-28</td>\n",
       "      <td>Monday</td>\n",
       "      <td>53</td>\n",
       "      <td>4</td>\n",
       "      <td>2099</td>\n",
       "      <td>2</td>\n",
       "    </tr>\n",
       "    <tr>\n",
       "      <th>36522</th>\n",
       "      <td>2099-12-29</td>\n",
       "      <td>Tuesday</td>\n",
       "      <td>53</td>\n",
       "      <td>4</td>\n",
       "      <td>2099</td>\n",
       "      <td>2</td>\n",
       "    </tr>\n",
       "    <tr>\n",
       "      <th>36523</th>\n",
       "      <td>2099-12-30</td>\n",
       "      <td>Wednesday</td>\n",
       "      <td>53</td>\n",
       "      <td>4</td>\n",
       "      <td>2099</td>\n",
       "      <td>2</td>\n",
       "    </tr>\n",
       "    <tr>\n",
       "      <th>36524</th>\n",
       "      <td>2099-12-31</td>\n",
       "      <td>Thursday</td>\n",
       "      <td>53</td>\n",
       "      <td>4</td>\n",
       "      <td>2099</td>\n",
       "      <td>2</td>\n",
       "    </tr>\n",
       "  </tbody>\n",
       "</table>\n",
       "</div>"
      ],
      "text/plain": [
       "            Date        Day  Week  Quarter  Year  Year_half\n",
       "36520 2099-12-27     Sunday    52        4  2099          2\n",
       "36521 2099-12-28     Monday    53        4  2099          2\n",
       "36522 2099-12-29    Tuesday    53        4  2099          2\n",
       "36523 2099-12-30  Wednesday    53        4  2099          2\n",
       "36524 2099-12-31   Thursday    53        4  2099          2"
      ]
     },
     "execution_count": 15,
     "metadata": {},
     "output_type": "execute_result"
    }
   ],
   "source": [
    "create_date_table2().tail()"
   ]
  }
 ],
 "metadata": {
  "kernelspec": {
   "display_name": "Python 3",
   "language": "python",
   "name": "python3"
  },
  "language_info": {
   "codemirror_mode": {
    "name": "ipython",
    "version": 3
   },
   "file_extension": ".py",
   "mimetype": "text/x-python",
   "name": "python",
   "nbconvert_exporter": "python",
   "pygments_lexer": "ipython3",
   "version": "3.7.3"
  }
 },
 "nbformat": 4,
 "nbformat_minor": 2
}
