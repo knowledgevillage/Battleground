{
 "cells": [
  {
   "cell_type": "markdown",
   "id": "56ba939a-e3fb-45b2-9e06-895fb01cbfbb",
   "metadata": {},
   "source": [
    "# Make it Easy : TAB Completion and Tooltip"
   ]
  },
  {
   "cell_type": "code",
   "execution_count": 1,
   "id": "d3e64ddb-b8d5-4951-a580-0951d9650bc9",
   "metadata": {},
   "outputs": [],
   "source": [
    "import pandas as pd"
   ]
  },
  {
   "cell_type": "code",
   "execution_count": null,
   "id": "41a59c7c-ceb5-4ab0-85a3-794eaf03898f",
   "metadata": {},
   "outputs": [],
   "source": []
  }
 ],
 "metadata": {
  "kernelspec": {
   "display_name": "Python 3 (ipykernel)",
   "language": "python",
   "name": "python3"
  },
  "language_info": {
   "codemirror_mode": {
    "name": "ipython",
    "version": 3
   },
   "file_extension": ".py",
   "mimetype": "text/x-python",
   "name": "python",
   "nbconvert_exporter": "python",
   "pygments_lexer": "ipython3",
   "version": "3.9.13"
  }
 },
 "nbformat": 4,
 "nbformat_minor": 5
}
