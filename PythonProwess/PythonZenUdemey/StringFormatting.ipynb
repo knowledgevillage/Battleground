{
 "cells": [
  {
   "cell_type": "code",
   "execution_count": 3,
   "metadata": {},
   "outputs": [
    {
     "name": "stdout",
     "output_type": "stream",
     "text": [
      "My age is 24 years\n"
     ]
    }
   ],
   "source": [
    "__author__ = 'dev'\n",
    "age=24\n",
    "#print(\"My age is \"+ age + \"years\") --- can only concatenate str (not \"int\") to str\n",
    "print(\"My age is \"+ str(age) + \" years\")"
   ]
  },
  {
   "cell_type": "code",
   "execution_count": 6,
   "metadata": {},
   "outputs": [
    {
     "name": "stdout",
     "output_type": "stream",
     "text": [
      "My age is 24 years\n"
     ]
    }
   ],
   "source": [
    "print(\"My age is {0} years\".format(age))"
   ]
  },
  {
   "cell_type": "code",
   "execution_count": 17,
   "metadata": {},
   "outputs": [
    {
     "name": "stdout",
     "output_type": "stream",
     "text": [
      "There ae 31 days in Jan, Mar, May, july, aug, oct, dec\n"
     ]
    }
   ],
   "source": [
    "\"\"\"Format method is string formatting methods in Python3, which allows multiple substitutions and value\n",
    "formatting. This method lets us concatenate elements within a string through positional formatting.\n",
    "(value) : Can be an integer, floating point numeric constant, string, characters or even variables.\n",
    "Returntype : Returns a formatted string with the value passed as parameter in the placeholder position.\"\"\"\n",
    "\n",
    "print(\"There ae {0} days in {1}, {2}, {3}, {4}, {5}, {6}, {7}\".format(31,'Jan','Mar','May',\"july\",\"aug\",'oct',\"dec\"))\n"
   ]
  },
  {
   "cell_type": "code",
   "execution_count": 23,
   "metadata": {},
   "outputs": [
    {
     "name": "stdout",
     "output_type": "stream",
     "text": [
      "January: 31 days\n",
      "Febuary: 28 days\n",
      "March: 31 days\n",
      "April: 30 days\n",
      "May: 31 days\n",
      "June: 30 days\n",
      "July: 31 days\n",
      "August: 31 days\n",
      "September: 30 days\n",
      "Octuber: 31 days\n",
      "November: 30 days\n",
      "December: 31 days\n",
      "      \n"
     ]
    }
   ],
   "source": [
    "print(\"\"\"January: {0} days\n",
    "Febuary: {1} days\n",
    "March: {0} days\n",
    "April: {2} days\n",
    "May: {0} days\n",
    "June: {2} days\n",
    "July: {0} days\n",
    "August: {0} days\n",
    "September: {2} days\n",
    "Octuber: {0} days\n",
    "November: {2} days\n",
    "December: {0} days\n",
    "      \"\"\".format(31,28,30))"
   ]
  },
  {
   "cell_type": "code",
   "execution_count": 26,
   "metadata": {},
   "outputs": [
    {
     "name": "stdout",
     "output_type": "stream",
     "text": [
      "My age is 24 years, 6 months\n"
     ]
    }
   ],
   "source": [
    "# in python2 insted of format methos below mwthos was used\n",
    "\n",
    "print(\"My age is %d %s, %d %s\" %(age, \"years\" ,6, \"months\"))"
   ]
  },
  {
   "cell_type": "code",
   "execution_count": 30,
   "metadata": {},
   "outputs": [
    {
     "name": "stdout",
     "output_type": "stream",
     "text": [
      "No.  1 squared is    1 and  cubed is    1\n",
      "No.  2 squared is    4 and  cubed is    8\n",
      "No.  3 squared is    9 and  cubed is   27\n",
      "No.  4 squared is   16 and  cubed is   64\n",
      "No.  5 squared is   25 and  cubed is  125\n",
      "No.  6 squared is   36 and  cubed is  216\n",
      "No.  7 squared is   49 and  cubed is  343\n",
      "No.  8 squared is   64 and  cubed is  512\n",
      "No.  9 squared is   81 and  cubed is  729\n",
      "No. 10 squared is  100 and  cubed is 1000\n",
      "No. 11 squared is  121 and  cubed is 1331\n"
     ]
    }
   ],
   "source": [
    "for i in range(1, 12):\n",
    "    print(\"No. %2d squared is %4d and  cubed is %4d\" %(i, i**2, i**3))\n",
    "    "
   ]
  },
  {
   "cell_type": "code",
   "execution_count": 37,
   "metadata": {},
   "outputs": [
    {
     "name": "stdout",
     "output_type": "stream",
     "text": [
      "Pi is     3.142857\n"
     ]
    }
   ],
   "source": [
    "\n",
    "\n",
    "print(\"Pi is %12f\" %(22/7))"
   ]
  },
  {
   "cell_type": "code",
   "execution_count": 40,
   "metadata": {},
   "outputs": [
    {
     "name": "stdout",
     "output_type": "stream",
     "text": [
      "Values of Pi is 3.14285714285714279370 \n"
     ]
    }
   ],
   "source": [
    "print(\"Values of Pi is %12.20f \"%(22/7))"
   ]
  },
  {
   "cell_type": "code",
   "execution_count": 41,
   "metadata": {},
   "outputs": [
    {
     "name": "stdout",
     "output_type": "stream",
     "text": [
      "No.  1 squared is    1 and  cubed is    1\n",
      "No.  2 squared is    4 and  cubed is    8\n",
      "No.  3 squared is    9 and  cubed is   27\n",
      "No.  4 squared is   16 and  cubed is   64\n",
      "No.  5 squared is   25 and  cubed is  125\n",
      "No.  6 squared is   36 and  cubed is  216\n",
      "No.  7 squared is   49 and  cubed is  343\n",
      "No.  8 squared is   64 and  cubed is  512\n",
      "No.  9 squared is   81 and  cubed is  729\n",
      "No. 10 squared is  100 and  cubed is 1000\n",
      "No. 11 squared is  121 and  cubed is 1331\n"
     ]
    }
   ],
   "source": [
    "for i in range(1, 12):\n",
    "    print(\"No. {0:2} squared is {1:4} and  cubed is {2:4}\".format(i, i**2, i**3))\n",
    "    "
   ]
  },
  {
   "cell_type": "code",
   "execution_count": 46,
   "metadata": {},
   "outputs": [
    {
     "name": "stdout",
     "output_type": "stream",
     "text": [
      "No. 1  squared is 1    and  cubed is 1   \n",
      "No. 2  squared is 4    and  cubed is 8   \n",
      "No. 3  squared is 9    and  cubed is 27  \n",
      "No. 4  squared is 16   and  cubed is 64  \n",
      "No. 5  squared is 25   and  cubed is 125 \n",
      "No. 6  squared is 36   and  cubed is 216 \n",
      "No. 7  squared is 49   and  cubed is 343 \n",
      "No. 8  squared is 64   and  cubed is 512 \n",
      "No. 9  squared is 81   and  cubed is 729 \n",
      "No. 10 squared is 100  and  cubed is 1000\n",
      "No. 11 squared is 121  and  cubed is 1331\n"
     ]
    }
   ],
   "source": [
    "for i in range(1, 12):\n",
    "    print(\"No. {0:<2} squared is {1:<4} and  cubed is {2:<4}\".format(i, i**2, i**3))"
   ]
  },
  {
   "cell_type": "code",
   "execution_count": 49,
   "metadata": {},
   "outputs": [
    {
     "name": "stdout",
     "output_type": "stream",
     "text": [
      "Values of Pi is 3.1428571428571427937015414499910548329353332519531 \n"
     ]
    }
   ],
   "source": [
    "print(\"Values of Pi is {0:12.50} \".format(22/7))"
   ]
  },
  {
   "cell_type": "code",
   "execution_count": 50,
   "metadata": {},
   "outputs": [
    {
     "name": "stdout",
     "output_type": "stream",
     "text": [
      "12345678\n"
     ]
    }
   ],
   "source": [
    "data = \"1:A, 2:B, 3:C, 4:D, 5:E, 6:F, 7:G, 8:H\"\n",
    "print(data[::5])"
   ]
  }
 ],
 "metadata": {
  "kernelspec": {
   "display_name": "Python 3",
   "language": "python",
   "name": "python3"
  },
  "language_info": {
   "codemirror_mode": {
    "name": "ipython",
    "version": 3
   },
   "file_extension": ".py",
   "mimetype": "text/x-python",
   "name": "python",
   "nbconvert_exporter": "python",
   "pygments_lexer": "ipython3",
   "version": "3.7.3"
  }
 },
 "nbformat": 4,
 "nbformat_minor": 2
}
