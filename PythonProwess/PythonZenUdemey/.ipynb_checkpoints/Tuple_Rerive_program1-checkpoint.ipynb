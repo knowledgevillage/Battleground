{
 "cells": [
  {
   "cell_type": "code",
   "execution_count": 5,
   "metadata": {},
   "outputs": [
    {
     "name": "stdout",
     "output_type": "stream",
     "text": [
      "('Choodiyan', 'Dev Negi, Asees Kaur', 2019, [(1, 'Choodiyan'), (2, 'Murder'), (3, '50 Sahdes of Grey')])\n",
      "Choodiyan\n",
      "Dev Negi, Asees Kaur\n",
      "2019\n",
      "\tTrack number 1, Title: Choodiyan\n",
      "\tTrack number 2, Title: Murder\n",
      "\tTrack number 3, Title: 50 Sahdes of Grey\n",
      "\tTrack number 4, Title: Holi Kab h Kab h HOLI\n",
      "\tTrack number 5, Title: Kitne Admi the\n"
     ]
    }
   ],
   "source": [
    "gramy_awards=\"Choodiyan\", \"Dev Negi, Asees Kaur\", 2019,([(1,\"Choodiyan\"),(2,\"Murder\"),(3,\"50 Sahdes of Grey\")])\n",
    "print(gramy_awards)\n",
    "\n",
    "gramy_awards[3].append((4,\"Holi Kab h Kab h HOLI\"))\n",
    "\n",
    "title, artist, year, track=gramy_awards\n",
    "\n",
    "track.append((5,\"Kitne Admi the\"))\n",
    "\n",
    "print(title)\n",
    "print(artist)\n",
    "print(year)\n",
    "\n",
    "for song in track:\n",
    "    track, title=song\n",
    "    print(\"\\tTrack number {}, Title: {}\".format(track, title))"
   ]
  },
  {
   "cell_type": "code",
   "execution_count": null,
   "metadata": {},
   "outputs": [],
   "source": []
  }
 ],
 "metadata": {
  "kernelspec": {
   "display_name": "Python 3",
   "language": "python",
   "name": "python3"
  },
  "language_info": {
   "codemirror_mode": {
    "name": "ipython",
    "version": 3
   },
   "file_extension": ".py",
   "mimetype": "text/x-python",
   "name": "python",
   "nbconvert_exporter": "python",
   "pygments_lexer": "ipython3",
   "version": "3.7.3"
  }
 },
 "nbformat": 4,
 "nbformat_minor": 2
}
