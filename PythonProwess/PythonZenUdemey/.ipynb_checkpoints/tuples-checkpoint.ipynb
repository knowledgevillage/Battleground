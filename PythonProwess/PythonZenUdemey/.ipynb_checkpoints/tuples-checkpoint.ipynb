{
 "cells": [
  {
   "cell_type": "markdown",
   "metadata": {},
   "source": [
    "welcome = \"Welcome to my Nightmare\", \"Alice Cooper\", 1975\n",
    "bad = \"BAD Company\", \"BAD Company\", 1974\n",
    "budgie = \"Nightflight\", \"Budgie\",1981\n",
    "imeld = \"More Mayhem\", \"Imilda May\", 2011, ((1, \"Pulling the  Rug\"),(2,\"Psycho\"),(3,\"Mayhem\"),(4,\"Kentish Town Waltz\"))\n",
    "\n",
    "    "
   ]
  },
  {
   "cell_type": "code",
   "execution_count": 10,
   "metadata": {},
   "outputs": [
    {
     "name": "stdout",
     "output_type": "stream",
     "text": [
      "('More Mayhem', 'Imilda May', 2011, ((1, 'Pulling the  Rug'), (2, 'Psycho'), (3, 'Mayhem'), (4, 'Kentish Town Waltz')))\n"
     ]
    }
   ],
   "source": [
    "imeld = \"More Mayhem\", \"Imilda May\", 2011, ((1, \"Pulling the  Rug\"),(2,\"Psycho\"),(3,\"Mayhem\"),(4,\"Kentish Town Waltz\"))\n",
    "\n",
    "print(imeld)"
   ]
  },
  {
   "cell_type": "code",
   "execution_count": 11,
   "metadata": {},
   "outputs": [],
   "source": [
    "title, artist, year, track= imeld"
   ]
  },
  {
   "cell_type": "code",
   "execution_count": 12,
   "metadata": {},
   "outputs": [
    {
     "name": "stdout",
     "output_type": "stream",
     "text": [
      "More Mayhem\n",
      "Imilda May\n",
      "2011\n",
      "((1, 'Pulling the  Rug'), (2, 'Psycho'), (3, 'Mayhem'), (4, 'Kentish Town Waltz'))\n"
     ]
    }
   ],
   "source": [
    "print(title)\n",
    "print(artist)\n",
    "print(year)\n",
    "print(track)"
   ]
  },
  {
   "cell_type": "code",
   "execution_count": null,
   "metadata": {},
   "outputs": [],
   "source": []
  }
 ],
 "metadata": {
  "kernelspec": {
   "display_name": "Python 3",
   "language": "python",
   "name": "python3"
  },
  "language_info": {
   "codemirror_mode": {
    "name": "ipython",
    "version": 3
   },
   "file_extension": ".py",
   "mimetype": "text/x-python",
   "name": "python",
   "nbconvert_exporter": "python",
   "pygments_lexer": "ipython3",
   "version": "3.7.3"
  }
 },
 "nbformat": 4,
 "nbformat_minor": 2
}
