{
 "cells": [
  {
   "cell_type": "code",
   "execution_count": 1,
   "metadata": {},
   "outputs": [
    {
     "name": "stdout",
     "output_type": "stream",
     "text": [
      "PLease enter your name:Shubham Tiwari\n",
      "How old are you, Shubham Tiwari?27\n",
      "27\n"
     ]
    }
   ],
   "source": [
    "__author__='dev'\n",
    "name=input(\"PLease enter your name:\")\n",
    "age=input(\"How old are you, {0}?\".format(name))\n",
    "print(age)"
   ]
  },
  {
   "cell_type": "code",
   "execution_count": 6,
   "metadata": {},
   "outputs": [
    {
     "name": "stdout",
     "output_type": "stream",
     "text": [
      "PLease enter your name:Shubham\n",
      "How old are you, Shubham?27\n",
      "27\n",
      "You are old enough to vote\n",
      "PLease put an X in the box\n"
     ]
    }
   ],
   "source": [
    "name=input(\"PLease enter your name:\")\n",
    "age=int(input(\"How old are you, {0}?\".format(name)))\n",
    "print(age)\n",
    "if age>18:\n",
    "    print(\"You are old enough to vote\")\n",
    "    print(\"Please put an X in the box\")\n",
    "else:\n",
    "    print(\"Please come back in {0} years\".format(18 - age))"
   ]
  }
 ],
 "metadata": {
  "kernelspec": {
   "display_name": "Python 3",
   "language": "python",
   "name": "python3"
  },
  "language_info": {
   "codemirror_mode": {
    "name": "ipython",
    "version": 3
   },
   "file_extension": ".py",
   "mimetype": "text/x-python",
   "name": "python",
   "nbconvert_exporter": "python",
   "pygments_lexer": "ipython3",
   "version": "3.7.3"
  }
 },
 "nbformat": 4,
 "nbformat_minor": 2
}
