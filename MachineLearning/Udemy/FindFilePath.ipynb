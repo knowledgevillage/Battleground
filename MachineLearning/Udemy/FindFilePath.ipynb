{
 "cells": [
  {
   "cell_type": "code",
   "execution_count": 1,
   "metadata": {},
   "outputs": [],
   "source": [
    "import os"
   ]
  },
  {
   "cell_type": "code",
   "execution_count": 8,
   "metadata": {},
   "outputs": [
    {
     "name": "stdout",
     "output_type": "stream",
     "text": [
      "C:\\Users\\ADMIN\\Documents\\DataScience\\Python\\Github\\practice\\MachineLearning\\Udemy\n"
     ]
    }
   ],
   "source": [
    "print(os.getcwd())"
   ]
  },
  {
   "cell_type": "code",
   "execution_count": 7,
   "metadata": {},
   "outputs": [
    {
     "name": "stdout",
     "output_type": "stream",
     "text": [
      "['.ipynb_checkpoints', 'Code', 'Data']\n"
     ]
    }
   ],
   "source": [
    "print(next(os.walk('.'))[1])"
   ]
  },
  {
   "cell_type": "code",
   "execution_count": 2,
   "metadata": {},
   "outputs": [
    {
     "name": "stdout",
     "output_type": "stream",
     "text": [
      "<nt.ScandirIterator object at 0x0000021BED742880>\n"
     ]
    }
   ],
   "source": [
    "cwd=os.getcwd()\n",
    "list_display=os.scandir(cwd)\n",
    "print(list_display)"
   ]
  },
  {
   "cell_type": "code",
   "execution_count": 12,
   "metadata": {},
   "outputs": [
    {
     "name": "stdout",
     "output_type": "stream",
     "text": [
      "<DirEntry '.ipynb_checkpoints'>\n",
      "<DirEntry 'Code'>\n",
      "<DirEntry 'Data'>\n",
      "<DirEntry 'DataPreprocessingFeatureScaling.ipynb'>\n"
     ]
    }
   ],
   "source": [
    "for i in list_display:\n",
    "    print( i)"
   ]
  },
  {
   "cell_type": "code",
   "execution_count": 13,
   "metadata": {},
   "outputs": [
    {
     "name": "stdout",
     "output_type": "stream",
     "text": [
      "('C:\\\\Users\\\\ADMIN\\\\Documents\\\\DataScience\\\\Python\\\\Github\\\\practice\\\\MachineLearning\\\\Udemy', ['.ipynb_checkpoints', 'Code', 'Data'], ['DataPreprocessingFeatureScaling.ipynb'])\n",
      "('C:\\\\Users\\\\ADMIN\\\\Documents\\\\DataScience\\\\Python\\\\Github\\\\practice\\\\MachineLearning\\\\Udemy\\\\.ipynb_checkpoints', [], ['DataPreprocessingFeatureScaling-checkpoint.ipynb'])\n",
      "('C:\\\\Users\\\\ADMIN\\\\Documents\\\\DataScience\\\\Python\\\\Github\\\\practice\\\\MachineLearning\\\\Udemy\\\\Code', [], [])\n",
      "('C:\\\\Users\\\\ADMIN\\\\Documents\\\\DataScience\\\\Python\\\\Github\\\\practice\\\\MachineLearning\\\\Udemy\\\\Data', ['Part 0 - Welcome to Machine Learning A-Z', 'Part 1 - Data Preprocessing', 'Part 10 - Model Selection & Boosting', 'Part 10 - Model Selection _ Boosting', 'Part 2 - Regression', 'Part 3 - Classification', 'Part 4 - Clustering', 'Part 5 - Association Rule Learning', 'Part 6 - Reinforcement Learning', 'Part 7 - Natural Language Processing', 'Part 8 - Deep Learning', 'Part 9 - Dimensionality Reduction'], ['.DS_Store'])\n",
      "('C:\\\\Users\\\\ADMIN\\\\Documents\\\\DataScience\\\\Python\\\\Github\\\\practice\\\\MachineLearning\\\\Udemy\\\\Data\\\\Part 0 - Welcome to Machine Learning A-Z', ['Section 1 - Welcome to Machine Learning A-Z !'], ['.DS_Store'])\n",
      "('C:\\\\Users\\\\ADMIN\\\\Documents\\\\DataScience\\\\Python\\\\Github\\\\practice\\\\MachineLearning\\\\Udemy\\\\Data\\\\Part 0 - Welcome to Machine Learning A-Z\\\\Section 1 - Welcome to Machine Learning A-Z !', [], [])\n",
      "('C:\\\\Users\\\\ADMIN\\\\Documents\\\\DataScience\\\\Python\\\\Github\\\\practice\\\\MachineLearning\\\\Udemy\\\\Data\\\\Part 1 - Data Preprocessing', ['Section 2 -------------------- Part 1 - Data Preprocessing --------------------'], ['.DS_Store'])\n",
      "('C:\\\\Users\\\\ADMIN\\\\Documents\\\\DataScience\\\\Python\\\\Github\\\\practice\\\\MachineLearning\\\\Udemy\\\\Data\\\\Part 1 - Data Preprocessing\\\\Section 2 -------------------- Part 1 - Data Preprocessing --------------------', ['Python', 'R'], ['.DS_Store'])\n",
      "('C:\\\\Users\\\\ADMIN\\\\Documents\\\\DataScience\\\\Python\\\\Github\\\\practice\\\\MachineLearning\\\\Udemy\\\\Data\\\\Part 1 - Data Preprocessing\\\\Section 2 -------------------- Part 1 - Data Preprocessing --------------------\\\\Python', [], ['.DS_Store', 'Data.csv', 'data_preprocessing_template.ipynb', 'data_preprocessing_template.py', 'data_preprocessing_tools.ipynb', 'data_preprocessing_tools.py'])\n",
      "('C:\\\\Users\\\\ADMIN\\\\Documents\\\\DataScience\\\\Python\\\\Github\\\\practice\\\\MachineLearning\\\\Udemy\\\\Data\\\\Part 1 - Data Preprocessing\\\\Section 2 -------------------- Part 1 - Data Preprocessing --------------------\\\\R', [], ['categorical_data.R', 'Data.csv', 'data_preprocessing_template.R', 'missing_data.R'])\n",
      "('C:\\\\Users\\\\ADMIN\\\\Documents\\\\DataScience\\\\Python\\\\Github\\\\practice\\\\MachineLearning\\\\Udemy\\\\Data\\\\Part 10 - Model Selection & Boosting', ['Section 47 -------------------- Part 10 - Model Selection --------------------', 'Section 48 - Model Selection', 'Section 49 - XGBoost', 'Section 50 - Part Recap'], [])\n",
      "('C:\\\\Users\\\\ADMIN\\\\Documents\\\\DataScience\\\\Python\\\\Github\\\\practice\\\\MachineLearning\\\\Udemy\\\\Data\\\\Part 10 - Model Selection & Boosting\\\\Section 47 -------------------- Part 10 - Model Selection --------------------', [], [])\n",
      "('C:\\\\Users\\\\ADMIN\\\\Documents\\\\DataScience\\\\Python\\\\Github\\\\practice\\\\MachineLearning\\\\Udemy\\\\Data\\\\Part 10 - Model Selection & Boosting\\\\Section 48 - Model Selection', [], [])\n",
      "('C:\\\\Users\\\\ADMIN\\\\Documents\\\\DataScience\\\\Python\\\\Github\\\\practice\\\\MachineLearning\\\\Udemy\\\\Data\\\\Part 10 - Model Selection & Boosting\\\\Section 49 - XGBoost', [], [])\n",
      "('C:\\\\Users\\\\ADMIN\\\\Documents\\\\DataScience\\\\Python\\\\Github\\\\practice\\\\MachineLearning\\\\Udemy\\\\Data\\\\Part 10 - Model Selection & Boosting\\\\Section 50 - Part Recap', [], [])\n",
      "('C:\\\\Users\\\\ADMIN\\\\Documents\\\\DataScience\\\\Python\\\\Github\\\\practice\\\\MachineLearning\\\\Udemy\\\\Data\\\\Part 10 - Model Selection _ Boosting', ['Section 48 - Model Selection', 'Section 49 - XGBoost'], [])\n",
      "('C:\\\\Users\\\\ADMIN\\\\Documents\\\\DataScience\\\\Python\\\\Github\\\\practice\\\\MachineLearning\\\\Udemy\\\\Data\\\\Part 10 - Model Selection _ Boosting\\\\Section 48 - Model Selection', ['Python', 'R'], ['.DS_Store'])\n",
      "('C:\\\\Users\\\\ADMIN\\\\Documents\\\\DataScience\\\\Python\\\\Github\\\\practice\\\\MachineLearning\\\\Udemy\\\\Data\\\\Part 10 - Model Selection _ Boosting\\\\Section 48 - Model Selection\\\\Python', [], ['grid_search.ipynb', 'grid_search.py', 'k_fold_cross_validation.ipynb', 'k_fold_cross_validation.py', 'Social_Network_Ads.csv'])\n",
      "('C:\\\\Users\\\\ADMIN\\\\Documents\\\\DataScience\\\\Python\\\\Github\\\\practice\\\\MachineLearning\\\\Udemy\\\\Data\\\\Part 10 - Model Selection _ Boosting\\\\Section 48 - Model Selection\\\\R', [], ['grid_search.R', 'k_fold_cross_validation.R', 'Social_Network_Ads.csv'])\n",
      "('C:\\\\Users\\\\ADMIN\\\\Documents\\\\DataScience\\\\Python\\\\Github\\\\practice\\\\MachineLearning\\\\Udemy\\\\Data\\\\Part 10 - Model Selection _ Boosting\\\\Section 49 - XGBoost', ['Python', 'R'], ['.DS_Store'])\n",
      "('C:\\\\Users\\\\ADMIN\\\\Documents\\\\DataScience\\\\Python\\\\Github\\\\practice\\\\MachineLearning\\\\Udemy\\\\Data\\\\Part 10 - Model Selection _ Boosting\\\\Section 49 - XGBoost\\\\Python', [], ['Churn_Modelling.csv', 'xg_boost.ipynb', 'xg_boost.py'])\n",
      "('C:\\\\Users\\\\ADMIN\\\\Documents\\\\DataScience\\\\Python\\\\Github\\\\practice\\\\MachineLearning\\\\Udemy\\\\Data\\\\Part 10 - Model Selection _ Boosting\\\\Section 49 - XGBoost\\\\R', [], ['Churn_Modelling.csv', 'xg_boost.R'])\n",
      "('C:\\\\Users\\\\ADMIN\\\\Documents\\\\DataScience\\\\Python\\\\Github\\\\practice\\\\MachineLearning\\\\Udemy\\\\Data\\\\Part 2 - Regression', ['Section 10 - Evaluating Regression Models Performance', 'Section 11 - Regularization Methods', 'Section 12 - Part Recap', 'Section 3 -------------------- Part 2 - Regression --------------------', 'Section 4 - Simple Linear Regression', 'Section 5 - Multiple Linear Regression', 'Section 6 - Polynomial Regression', 'Section 7 - Support Vector Regression (SVR)', 'Section 8 - Decision Tree Regression', 'Section 9 - Random Forest Regression'], ['.DS_Store'])\n",
      "('C:\\\\Users\\\\ADMIN\\\\Documents\\\\DataScience\\\\Python\\\\Github\\\\practice\\\\MachineLearning\\\\Udemy\\\\Data\\\\Part 2 - Regression\\\\Section 10 - Evaluating Regression Models Performance', [], [])\n",
      "('C:\\\\Users\\\\ADMIN\\\\Documents\\\\DataScience\\\\Python\\\\Github\\\\practice\\\\MachineLearning\\\\Udemy\\\\Data\\\\Part 2 - Regression\\\\Section 11 - Regularization Methods', [], [])\n",
      "('C:\\\\Users\\\\ADMIN\\\\Documents\\\\DataScience\\\\Python\\\\Github\\\\practice\\\\MachineLearning\\\\Udemy\\\\Data\\\\Part 2 - Regression\\\\Section 12 - Part Recap', [], [])\n",
      "('C:\\\\Users\\\\ADMIN\\\\Documents\\\\DataScience\\\\Python\\\\Github\\\\practice\\\\MachineLearning\\\\Udemy\\\\Data\\\\Part 2 - Regression\\\\Section 3 -------------------- Part 2 - Regression --------------------', [], [])\n",
      "('C:\\\\Users\\\\ADMIN\\\\Documents\\\\DataScience\\\\Python\\\\Github\\\\practice\\\\MachineLearning\\\\Udemy\\\\Data\\\\Part 2 - Regression\\\\Section 4 - Simple Linear Regression', ['Python', 'R'], ['.DS_Store'])\n",
      "('C:\\\\Users\\\\ADMIN\\\\Documents\\\\DataScience\\\\Python\\\\Github\\\\practice\\\\MachineLearning\\\\Udemy\\\\Data\\\\Part 2 - Regression\\\\Section 4 - Simple Linear Regression\\\\Python', ['.ipynb_checkpoints'], ['Salary_Data.csv', 'simple_linear_regression.ipynb', 'simple_linear_regression.py'])\n",
      "('C:\\\\Users\\\\ADMIN\\\\Documents\\\\DataScience\\\\Python\\\\Github\\\\practice\\\\MachineLearning\\\\Udemy\\\\Data\\\\Part 2 - Regression\\\\Section 4 - Simple Linear Regression\\\\Python\\\\.ipynb_checkpoints', [], ['simple_linear_regression-checkpoint.ipynb'])\n",
      "('C:\\\\Users\\\\ADMIN\\\\Documents\\\\DataScience\\\\Python\\\\Github\\\\practice\\\\MachineLearning\\\\Udemy\\\\Data\\\\Part 2 - Regression\\\\Section 4 - Simple Linear Regression\\\\R', [], ['data_preprocessing_template.R', 'Salary_Data.csv', 'simple_linear_regression.R'])\n",
      "('C:\\\\Users\\\\ADMIN\\\\Documents\\\\DataScience\\\\Python\\\\Github\\\\practice\\\\MachineLearning\\\\Udemy\\\\Data\\\\Part 2 - Regression\\\\Section 5 - Multiple Linear Regression', ['Python', 'R'], ['.DS_Store'])\n",
      "('C:\\\\Users\\\\ADMIN\\\\Documents\\\\DataScience\\\\Python\\\\Github\\\\practice\\\\MachineLearning\\\\Udemy\\\\Data\\\\Part 2 - Regression\\\\Section 5 - Multiple Linear Regression\\\\Python', [], ['50_Startups.csv', 'multiple_linear_regression.ipynb', 'multiple_linear_regression.py'])\n",
      "('C:\\\\Users\\\\ADMIN\\\\Documents\\\\DataScience\\\\Python\\\\Github\\\\practice\\\\MachineLearning\\\\Udemy\\\\Data\\\\Part 2 - Regression\\\\Section 5 - Multiple Linear Regression\\\\R', [], ['50_Startups.csv', 'data_preprocessing_template.R', 'multiple_linear_regression.R'])\n",
      "('C:\\\\Users\\\\ADMIN\\\\Documents\\\\DataScience\\\\Python\\\\Github\\\\practice\\\\MachineLearning\\\\Udemy\\\\Data\\\\Part 2 - Regression\\\\Section 6 - Polynomial Regression', ['Python', 'R'], ['.DS_Store'])\n",
      "('C:\\\\Users\\\\ADMIN\\\\Documents\\\\DataScience\\\\Python\\\\Github\\\\practice\\\\MachineLearning\\\\Udemy\\\\Data\\\\Part 2 - Regression\\\\Section 6 - Polynomial Regression\\\\Python', [], ['.DS_Store', 'polynomial_regression.ipynb', 'polynomial_regression.py', 'Position_Salaries.csv'])\n",
      "('C:\\\\Users\\\\ADMIN\\\\Documents\\\\DataScience\\\\Python\\\\Github\\\\practice\\\\MachineLearning\\\\Udemy\\\\Data\\\\Part 2 - Regression\\\\Section 6 - Polynomial Regression\\\\R', [], ['data_preprocessing_template.R', 'polynomial_regression.R', 'Position_Salaries.csv'])\n",
      "('C:\\\\Users\\\\ADMIN\\\\Documents\\\\DataScience\\\\Python\\\\Github\\\\practice\\\\MachineLearning\\\\Udemy\\\\Data\\\\Part 2 - Regression\\\\Section 7 - Support Vector Regression (SVR)', ['Python', 'R'], ['.DS_Store'])\n",
      "('C:\\\\Users\\\\ADMIN\\\\Documents\\\\DataScience\\\\Python\\\\Github\\\\practice\\\\MachineLearning\\\\Udemy\\\\Data\\\\Part 2 - Regression\\\\Section 7 - Support Vector Regression (SVR)\\\\Python', [], ['.DS_Store', 'Position_Salaries.csv', 'support_vector_regression.ipynb', 'support_vector_regression.py'])\n",
      "('C:\\\\Users\\\\ADMIN\\\\Documents\\\\DataScience\\\\Python\\\\Github\\\\practice\\\\MachineLearning\\\\Udemy\\\\Data\\\\Part 2 - Regression\\\\Section 7 - Support Vector Regression (SVR)\\\\R', [], ['.DS_Store', 'data_preprocessing_template.R', 'Position_Salaries.csv', 'svr.R'])\n",
      "('C:\\\\Users\\\\ADMIN\\\\Documents\\\\DataScience\\\\Python\\\\Github\\\\practice\\\\MachineLearning\\\\Udemy\\\\Data\\\\Part 2 - Regression\\\\Section 8 - Decision Tree Regression', ['Python', 'R'], ['.DS_Store'])\n",
      "('C:\\\\Users\\\\ADMIN\\\\Documents\\\\DataScience\\\\Python\\\\Github\\\\practice\\\\MachineLearning\\\\Udemy\\\\Data\\\\Part 2 - Regression\\\\Section 8 - Decision Tree Regression\\\\Python', [], ['.DS_Store', 'decision_tree_regression.ipynb', 'decision_tree_regression.py', 'Position_Salaries.csv'])\n",
      "('C:\\\\Users\\\\ADMIN\\\\Documents\\\\DataScience\\\\Python\\\\Github\\\\practice\\\\MachineLearning\\\\Udemy\\\\Data\\\\Part 2 - Regression\\\\Section 8 - Decision Tree Regression\\\\R', [], ['decision_tree_regression.R', 'Position_Salaries.csv', 'regression_template.R'])\n",
      "('C:\\\\Users\\\\ADMIN\\\\Documents\\\\DataScience\\\\Python\\\\Github\\\\practice\\\\MachineLearning\\\\Udemy\\\\Data\\\\Part 2 - Regression\\\\Section 9 - Random Forest Regression', ['Python', 'R'], ['.DS_Store'])\n",
      "('C:\\\\Users\\\\ADMIN\\\\Documents\\\\DataScience\\\\Python\\\\Github\\\\practice\\\\MachineLearning\\\\Udemy\\\\Data\\\\Part 2 - Regression\\\\Section 9 - Random Forest Regression\\\\Python', [], ['.DS_Store', 'Position_Salaries.csv', 'random_forest_regression.ipynb', 'random_forest_regression.py'])\n",
      "('C:\\\\Users\\\\ADMIN\\\\Documents\\\\DataScience\\\\Python\\\\Github\\\\practice\\\\MachineLearning\\\\Udemy\\\\Data\\\\Part 2 - Regression\\\\Section 9 - Random Forest Regression\\\\R', [], ['.DS_Store', 'Position_Salaries.csv', 'random_forest_regression.R', 'regression_template.R'])\n",
      "('C:\\\\Users\\\\ADMIN\\\\Documents\\\\DataScience\\\\Python\\\\Github\\\\practice\\\\MachineLearning\\\\Udemy\\\\Data\\\\Part 3 - Classification', ['Section 13 -------------------- Part 3 - Classification --------------------', 'Section 14 - Logistic Regression', 'Section 15 - K-Nearest Neighbors (K-NN)', 'Section 16 - Support Vector Machine (SVM)', 'Section 17 - Kernel SVM', 'Section 18 - Naive Bayes', 'Section 19 - Decision Tree Classification', 'Section 20 - Random Forest Classification', 'Section 21 - Evaluating Classification Models Performance', 'Section 22 - Part Recap'], ['.DS_Store'])\n",
      "('C:\\\\Users\\\\ADMIN\\\\Documents\\\\DataScience\\\\Python\\\\Github\\\\practice\\\\MachineLearning\\\\Udemy\\\\Data\\\\Part 3 - Classification\\\\Section 13 -------------------- Part 3 - Classification --------------------', [], [])\n",
      "('C:\\\\Users\\\\ADMIN\\\\Documents\\\\DataScience\\\\Python\\\\Github\\\\practice\\\\MachineLearning\\\\Udemy\\\\Data\\\\Part 3 - Classification\\\\Section 14 - Logistic Regression', ['Python', 'R'], [])\n",
      "('C:\\\\Users\\\\ADMIN\\\\Documents\\\\DataScience\\\\Python\\\\Github\\\\practice\\\\MachineLearning\\\\Udemy\\\\Data\\\\Part 3 - Classification\\\\Section 14 - Logistic Regression\\\\Python', [], ['.DS_Store', 'logistic_regression.ipynb', 'logistic_regression.py', 'Social_Network_Ads.csv'])\n",
      "('C:\\\\Users\\\\ADMIN\\\\Documents\\\\DataScience\\\\Python\\\\Github\\\\practice\\\\MachineLearning\\\\Udemy\\\\Data\\\\Part 3 - Classification\\\\Section 14 - Logistic Regression\\\\R', [], ['logistic_regression.R', 'Social_Network_Ads.csv'])\n",
      "('C:\\\\Users\\\\ADMIN\\\\Documents\\\\DataScience\\\\Python\\\\Github\\\\practice\\\\MachineLearning\\\\Udemy\\\\Data\\\\Part 3 - Classification\\\\Section 15 - K-Nearest Neighbors (K-NN)', ['Python', 'R'], [])\n",
      "('C:\\\\Users\\\\ADMIN\\\\Documents\\\\DataScience\\\\Python\\\\Github\\\\practice\\\\MachineLearning\\\\Udemy\\\\Data\\\\Part 3 - Classification\\\\Section 15 - K-Nearest Neighbors (K-NN)\\\\Python', [], ['.DS_Store', 'k_nearest_neighbors.ipynb', 'k_nearest_neighbors.py', 'Social_Network_Ads.csv'])\n",
      "('C:\\\\Users\\\\ADMIN\\\\Documents\\\\DataScience\\\\Python\\\\Github\\\\practice\\\\MachineLearning\\\\Udemy\\\\Data\\\\Part 3 - Classification\\\\Section 15 - K-Nearest Neighbors (K-NN)\\\\R', [], ['classification_template.R', 'knn.R', 'Social_Network_Ads.csv'])\n",
      "('C:\\\\Users\\\\ADMIN\\\\Documents\\\\DataScience\\\\Python\\\\Github\\\\practice\\\\MachineLearning\\\\Udemy\\\\Data\\\\Part 3 - Classification\\\\Section 16 - Support Vector Machine (SVM)', ['Python', 'R'], [])\n",
      "('C:\\\\Users\\\\ADMIN\\\\Documents\\\\DataScience\\\\Python\\\\Github\\\\practice\\\\MachineLearning\\\\Udemy\\\\Data\\\\Part 3 - Classification\\\\Section 16 - Support Vector Machine (SVM)\\\\Python', [], ['.DS_Store', 'Social_Network_Ads.csv', 'support_vector_machine.ipynb', 'support_vector_machine.py'])\n",
      "('C:\\\\Users\\\\ADMIN\\\\Documents\\\\DataScience\\\\Python\\\\Github\\\\practice\\\\MachineLearning\\\\Udemy\\\\Data\\\\Part 3 - Classification\\\\Section 16 - Support Vector Machine (SVM)\\\\R', [], ['classification_template.R', 'Social_Network_Ads.csv', 'svm.R'])\n",
      "('C:\\\\Users\\\\ADMIN\\\\Documents\\\\DataScience\\\\Python\\\\Github\\\\practice\\\\MachineLearning\\\\Udemy\\\\Data\\\\Part 3 - Classification\\\\Section 17 - Kernel SVM', ['Python', 'R'], [])\n",
      "('C:\\\\Users\\\\ADMIN\\\\Documents\\\\DataScience\\\\Python\\\\Github\\\\practice\\\\MachineLearning\\\\Udemy\\\\Data\\\\Part 3 - Classification\\\\Section 17 - Kernel SVM\\\\Python', [], ['.DS_Store', 'kernel_svm.ipynb', 'kernel_svm.py', 'Social_Network_Ads.csv'])\n",
      "('C:\\\\Users\\\\ADMIN\\\\Documents\\\\DataScience\\\\Python\\\\Github\\\\practice\\\\MachineLearning\\\\Udemy\\\\Data\\\\Part 3 - Classification\\\\Section 17 - Kernel SVM\\\\R', [], ['classification_template.R', 'kernel_svm.R', 'Social_Network_Ads.csv'])\n",
      "('C:\\\\Users\\\\ADMIN\\\\Documents\\\\DataScience\\\\Python\\\\Github\\\\practice\\\\MachineLearning\\\\Udemy\\\\Data\\\\Part 3 - Classification\\\\Section 18 - Naive Bayes', ['Python', 'R'], [])\n",
      "('C:\\\\Users\\\\ADMIN\\\\Documents\\\\DataScience\\\\Python\\\\Github\\\\practice\\\\MachineLearning\\\\Udemy\\\\Data\\\\Part 3 - Classification\\\\Section 18 - Naive Bayes\\\\Python', [], ['.DS_Store', 'naive_bayes.ipynb', 'naive_bayes.py', 'Social_Network_Ads.csv'])\n",
      "('C:\\\\Users\\\\ADMIN\\\\Documents\\\\DataScience\\\\Python\\\\Github\\\\practice\\\\MachineLearning\\\\Udemy\\\\Data\\\\Part 3 - Classification\\\\Section 18 - Naive Bayes\\\\R', [], ['classification_template.R', 'naive_bayes.R', 'Social_Network_Ads.csv'])\n",
      "('C:\\\\Users\\\\ADMIN\\\\Documents\\\\DataScience\\\\Python\\\\Github\\\\practice\\\\MachineLearning\\\\Udemy\\\\Data\\\\Part 3 - Classification\\\\Section 19 - Decision Tree Classification', ['Python', 'R'], [])\n",
      "('C:\\\\Users\\\\ADMIN\\\\Documents\\\\DataScience\\\\Python\\\\Github\\\\practice\\\\MachineLearning\\\\Udemy\\\\Data\\\\Part 3 - Classification\\\\Section 19 - Decision Tree Classification\\\\Python', [], ['.DS_Store', 'decision_tree_classification.ipynb', 'decision_tree_classification.py', 'Social_Network_Ads.csv'])\n",
      "('C:\\\\Users\\\\ADMIN\\\\Documents\\\\DataScience\\\\Python\\\\Github\\\\practice\\\\MachineLearning\\\\Udemy\\\\Data\\\\Part 3 - Classification\\\\Section 19 - Decision Tree Classification\\\\R', [], ['classification_template.R', 'decision_tree_classification.R', 'Social_Network_Ads.csv'])\n",
      "('C:\\\\Users\\\\ADMIN\\\\Documents\\\\DataScience\\\\Python\\\\Github\\\\practice\\\\MachineLearning\\\\Udemy\\\\Data\\\\Part 3 - Classification\\\\Section 20 - Random Forest Classification', ['Python', 'R'], ['.DS_Store'])\n",
      "('C:\\\\Users\\\\ADMIN\\\\Documents\\\\DataScience\\\\Python\\\\Github\\\\practice\\\\MachineLearning\\\\Udemy\\\\Data\\\\Part 3 - Classification\\\\Section 20 - Random Forest Classification\\\\Python', [], ['.DS_Store', 'random_forest_classification.ipynb', 'random_forest_classification.py', 'Social_Network_Ads.csv'])\n",
      "('C:\\\\Users\\\\ADMIN\\\\Documents\\\\DataScience\\\\Python\\\\Github\\\\practice\\\\MachineLearning\\\\Udemy\\\\Data\\\\Part 3 - Classification\\\\Section 20 - Random Forest Classification\\\\R', [], ['classification_template.R', 'random_forest_classification.R', 'Social_Network_Ads.csv'])\n",
      "('C:\\\\Users\\\\ADMIN\\\\Documents\\\\DataScience\\\\Python\\\\Github\\\\practice\\\\MachineLearning\\\\Udemy\\\\Data\\\\Part 3 - Classification\\\\Section 21 - Evaluating Classification Models Performance', [], [])\n",
      "('C:\\\\Users\\\\ADMIN\\\\Documents\\\\DataScience\\\\Python\\\\Github\\\\practice\\\\MachineLearning\\\\Udemy\\\\Data\\\\Part 3 - Classification\\\\Section 22 - Part Recap', [], [])\n",
      "('C:\\\\Users\\\\ADMIN\\\\Documents\\\\DataScience\\\\Python\\\\Github\\\\practice\\\\MachineLearning\\\\Udemy\\\\Data\\\\Part 4 - Clustering', ['Section 23 -------------------- Part 4 - Clustering --------------------', 'Section 24 - K-Means Clustering', 'Section 25 - Hierarchical Clustering', 'Section 26 - Part Recap'], [])\n",
      "('C:\\\\Users\\\\ADMIN\\\\Documents\\\\DataScience\\\\Python\\\\Github\\\\practice\\\\MachineLearning\\\\Udemy\\\\Data\\\\Part 4 - Clustering\\\\Section 23 -------------------- Part 4 - Clustering --------------------', [], [])\n",
      "('C:\\\\Users\\\\ADMIN\\\\Documents\\\\DataScience\\\\Python\\\\Github\\\\practice\\\\MachineLearning\\\\Udemy\\\\Data\\\\Part 4 - Clustering\\\\Section 24 - K-Means Clustering', ['Python', 'R'], ['.DS_Store'])\n",
      "('C:\\\\Users\\\\ADMIN\\\\Documents\\\\DataScience\\\\Python\\\\Github\\\\practice\\\\MachineLearning\\\\Udemy\\\\Data\\\\Part 4 - Clustering\\\\Section 24 - K-Means Clustering\\\\Python', [], ['.DS_Store', 'k_means_clustering.ipynb', 'k_means_clustering.py', 'Mall_Customers.csv'])\n",
      "('C:\\\\Users\\\\ADMIN\\\\Documents\\\\DataScience\\\\Python\\\\Github\\\\practice\\\\MachineLearning\\\\Udemy\\\\Data\\\\Part 4 - Clustering\\\\Section 24 - K-Means Clustering\\\\R', [], ['data_preprocessing_template.R', 'k_means_clustering.R', 'Mall_Customers.csv'])\n",
      "('C:\\\\Users\\\\ADMIN\\\\Documents\\\\DataScience\\\\Python\\\\Github\\\\practice\\\\MachineLearning\\\\Udemy\\\\Data\\\\Part 4 - Clustering\\\\Section 25 - Hierarchical Clustering', ['Python', 'R'], ['.DS_Store'])\n",
      "('C:\\\\Users\\\\ADMIN\\\\Documents\\\\DataScience\\\\Python\\\\Github\\\\practice\\\\MachineLearning\\\\Udemy\\\\Data\\\\Part 4 - Clustering\\\\Section 25 - Hierarchical Clustering\\\\Python', [], ['.DS_Store', 'hierarchical_clustering.ipynb', 'hierarchical_clustering.py', 'Mall_Customers.csv'])\n",
      "('C:\\\\Users\\\\ADMIN\\\\Documents\\\\DataScience\\\\Python\\\\Github\\\\practice\\\\MachineLearning\\\\Udemy\\\\Data\\\\Part 4 - Clustering\\\\Section 25 - Hierarchical Clustering\\\\R', [], ['data_preprocessing_template.R', 'hc.R', 'Mall_Customers.csv'])\n",
      "('C:\\\\Users\\\\ADMIN\\\\Documents\\\\DataScience\\\\Python\\\\Github\\\\practice\\\\MachineLearning\\\\Udemy\\\\Data\\\\Part 4 - Clustering\\\\Section 26 - Part Recap', [], [])\n",
      "('C:\\\\Users\\\\ADMIN\\\\Documents\\\\DataScience\\\\Python\\\\Github\\\\practice\\\\MachineLearning\\\\Udemy\\\\Data\\\\Part 5 - Association Rule Learning', ['Section 27 -------------------- Part 5 - Association Rule Learning --------------------', 'Section 28 - Apriori', 'Section 29 - Eclat', 'Section 30 - Part Recap'], [])\n",
      "('C:\\\\Users\\\\ADMIN\\\\Documents\\\\DataScience\\\\Python\\\\Github\\\\practice\\\\MachineLearning\\\\Udemy\\\\Data\\\\Part 5 - Association Rule Learning\\\\Section 27 -------------------- Part 5 - Association Rule Learning --------------------', [], [])\n",
      "('C:\\\\Users\\\\ADMIN\\\\Documents\\\\DataScience\\\\Python\\\\Github\\\\practice\\\\MachineLearning\\\\Udemy\\\\Data\\\\Part 5 - Association Rule Learning\\\\Section 28 - Apriori', ['Python', 'R'], ['.DS_Store'])\n",
      "('C:\\\\Users\\\\ADMIN\\\\Documents\\\\DataScience\\\\Python\\\\Github\\\\practice\\\\MachineLearning\\\\Udemy\\\\Data\\\\Part 5 - Association Rule Learning\\\\Section 28 - Apriori\\\\Python', [], ['apriori.ipynb', 'apriori.py', 'apyori.py', 'Market_Basket_Optimisation.csv'])\n",
      "('C:\\\\Users\\\\ADMIN\\\\Documents\\\\DataScience\\\\Python\\\\Github\\\\practice\\\\MachineLearning\\\\Udemy\\\\Data\\\\Part 5 - Association Rule Learning\\\\Section 28 - Apriori\\\\R', [], ['apriori.R', 'Market_Basket_Optimisation.csv'])\n",
      "('C:\\\\Users\\\\ADMIN\\\\Documents\\\\DataScience\\\\Python\\\\Github\\\\practice\\\\MachineLearning\\\\Udemy\\\\Data\\\\Part 5 - Association Rule Learning\\\\Section 29 - Eclat', ['Python (No Python implementation for this Eclat model)', 'R'], [])\n",
      "('C:\\\\Users\\\\ADMIN\\\\Documents\\\\DataScience\\\\Python\\\\Github\\\\practice\\\\MachineLearning\\\\Udemy\\\\Data\\\\Part 5 - Association Rule Learning\\\\Section 29 - Eclat\\\\Python (No Python implementation for this Eclat model)', [], [])\n",
      "('C:\\\\Users\\\\ADMIN\\\\Documents\\\\DataScience\\\\Python\\\\Github\\\\practice\\\\MachineLearning\\\\Udemy\\\\Data\\\\Part 5 - Association Rule Learning\\\\Section 29 - Eclat\\\\R', [], ['eclat.R', 'Market_Basket_Optimisation.csv'])\n",
      "('C:\\\\Users\\\\ADMIN\\\\Documents\\\\DataScience\\\\Python\\\\Github\\\\practice\\\\MachineLearning\\\\Udemy\\\\Data\\\\Part 5 - Association Rule Learning\\\\Section 30 - Part Recap', [], [])\n",
      "('C:\\\\Users\\\\ADMIN\\\\Documents\\\\DataScience\\\\Python\\\\Github\\\\practice\\\\MachineLearning\\\\Udemy\\\\Data\\\\Part 6 - Reinforcement Learning', ['Section 31 -------------------- Part 6 - Reinforcement Learning --------------------', 'Section 32 - Upper Confidence Bound (UCB)', 'Section 33 - Thompson Sampling', 'Section 34 - Part Recap'], [])\n",
      "('C:\\\\Users\\\\ADMIN\\\\Documents\\\\DataScience\\\\Python\\\\Github\\\\practice\\\\MachineLearning\\\\Udemy\\\\Data\\\\Part 6 - Reinforcement Learning\\\\Section 31 -------------------- Part 6 - Reinforcement Learning --------------------', [], [])\n",
      "('C:\\\\Users\\\\ADMIN\\\\Documents\\\\DataScience\\\\Python\\\\Github\\\\practice\\\\MachineLearning\\\\Udemy\\\\Data\\\\Part 6 - Reinforcement Learning\\\\Section 32 - Upper Confidence Bound (UCB)', ['Python', 'R'], ['.DS_Store', 'UCB_Algorithm_Slide.png'])\n",
      "('C:\\\\Users\\\\ADMIN\\\\Documents\\\\DataScience\\\\Python\\\\Github\\\\practice\\\\MachineLearning\\\\Udemy\\\\Data\\\\Part 6 - Reinforcement Learning\\\\Section 32 - Upper Confidence Bound (UCB)\\\\Python', [], ['Ads_CTR_Optimisation.csv', 'upper_confidence_bound.ipynb', 'upper_confidence_bound.py'])\n",
      "('C:\\\\Users\\\\ADMIN\\\\Documents\\\\DataScience\\\\Python\\\\Github\\\\practice\\\\MachineLearning\\\\Udemy\\\\Data\\\\Part 6 - Reinforcement Learning\\\\Section 32 - Upper Confidence Bound (UCB)\\\\R', [], ['Ads_CTR_Optimisation.csv', 'random_selection.R', 'upper_confidence_bound.R'])\n",
      "('C:\\\\Users\\\\ADMIN\\\\Documents\\\\DataScience\\\\Python\\\\Github\\\\practice\\\\MachineLearning\\\\Udemy\\\\Data\\\\Part 6 - Reinforcement Learning\\\\Section 33 - Thompson Sampling', ['Python', 'R'], ['.DS_Store', 'Thompson_Sampling_Slide.png'])\n",
      "('C:\\\\Users\\\\ADMIN\\\\Documents\\\\DataScience\\\\Python\\\\Github\\\\practice\\\\MachineLearning\\\\Udemy\\\\Data\\\\Part 6 - Reinforcement Learning\\\\Section 33 - Thompson Sampling\\\\Python', [], ['Ads_CTR_Optimisation.csv', 'thompson_sampling.ipynb', 'thompson_sampling.py'])\n",
      "('C:\\\\Users\\\\ADMIN\\\\Documents\\\\DataScience\\\\Python\\\\Github\\\\practice\\\\MachineLearning\\\\Udemy\\\\Data\\\\Part 6 - Reinforcement Learning\\\\Section 33 - Thompson Sampling\\\\R', [], ['Ads_CTR_Optimisation.csv', 'random_selection.R', 'thompson_sampling.R'])\n",
      "('C:\\\\Users\\\\ADMIN\\\\Documents\\\\DataScience\\\\Python\\\\Github\\\\practice\\\\MachineLearning\\\\Udemy\\\\Data\\\\Part 6 - Reinforcement Learning\\\\Section 34 - Part Recap', [], [])\n",
      "('C:\\\\Users\\\\ADMIN\\\\Documents\\\\DataScience\\\\Python\\\\Github\\\\practice\\\\MachineLearning\\\\Udemy\\\\Data\\\\Part 7 - Natural Language Processing', ['Section 35 -------------------- Part 7 - Natural Language Processing --------------------', 'Section 36 - Natural Language Processing', 'Section 37 - Part Recap'], [])\n",
      "('C:\\\\Users\\\\ADMIN\\\\Documents\\\\DataScience\\\\Python\\\\Github\\\\practice\\\\MachineLearning\\\\Udemy\\\\Data\\\\Part 7 - Natural Language Processing\\\\Section 35 -------------------- Part 7 - Natural Language Processing --------------------', [], [])\n",
      "('C:\\\\Users\\\\ADMIN\\\\Documents\\\\DataScience\\\\Python\\\\Github\\\\practice\\\\MachineLearning\\\\Udemy\\\\Data\\\\Part 7 - Natural Language Processing\\\\Section 36 - Natural Language Processing', ['Python', 'R'], ['.DS_Store'])\n",
      "('C:\\\\Users\\\\ADMIN\\\\Documents\\\\DataScience\\\\Python\\\\Github\\\\practice\\\\MachineLearning\\\\Udemy\\\\Data\\\\Part 7 - Natural Language Processing\\\\Section 36 - Natural Language Processing\\\\Python', [], ['Natural Language Processing.ipynb', 'natural_language_processing.py', 'Restaurant_Reviews.tsv'])\n",
      "('C:\\\\Users\\\\ADMIN\\\\Documents\\\\DataScience\\\\Python\\\\Github\\\\practice\\\\MachineLearning\\\\Udemy\\\\Data\\\\Part 7 - Natural Language Processing\\\\Section 36 - Natural Language Processing\\\\R', [], ['natural_language_processing.R', 'Restaurant_Reviews.tsv'])\n",
      "('C:\\\\Users\\\\ADMIN\\\\Documents\\\\DataScience\\\\Python\\\\Github\\\\practice\\\\MachineLearning\\\\Udemy\\\\Data\\\\Part 7 - Natural Language Processing\\\\Section 37 - Part Recap', [], [])\n",
      "('C:\\\\Users\\\\ADMIN\\\\Documents\\\\DataScience\\\\Python\\\\Github\\\\practice\\\\MachineLearning\\\\Udemy\\\\Data\\\\Part 8 - Deep Learning', ['Section 38 -------------------- Part 8 - Deep Learning --------------------', 'Section 39 - Artificial Neural Networks (ANN)', 'Section 40 - Convolutional Neural Networks (CNN)', 'Section 41 - Part Recap'], [])\n",
      "('C:\\\\Users\\\\ADMIN\\\\Documents\\\\DataScience\\\\Python\\\\Github\\\\practice\\\\MachineLearning\\\\Udemy\\\\Data\\\\Part 8 - Deep Learning\\\\Section 38 -------------------- Part 8 - Deep Learning --------------------', [], [])\n",
      "('C:\\\\Users\\\\ADMIN\\\\Documents\\\\DataScience\\\\Python\\\\Github\\\\practice\\\\MachineLearning\\\\Udemy\\\\Data\\\\Part 8 - Deep Learning\\\\Section 39 - Artificial Neural Networks (ANN)', ['Python', 'R'], ['.DS_Store', 'Stochastic_Gradient_Descent.png'])\n",
      "('C:\\\\Users\\\\ADMIN\\\\Documents\\\\DataScience\\\\Python\\\\Github\\\\practice\\\\MachineLearning\\\\Udemy\\\\Data\\\\Part 8 - Deep Learning\\\\Section 39 - Artificial Neural Networks (ANN)\\\\Python', [], ['artificial_neural_network.ipynb', 'artificial_neural_network.py', 'Churn_Modelling.csv'])\n",
      "('C:\\\\Users\\\\ADMIN\\\\Documents\\\\DataScience\\\\Python\\\\Github\\\\practice\\\\MachineLearning\\\\Udemy\\\\Data\\\\Part 8 - Deep Learning\\\\Section 39 - Artificial Neural Networks (ANN)\\\\R', [], ['ann.R', 'Churn_Modelling.csv'])\n",
      "('C:\\\\Users\\\\ADMIN\\\\Documents\\\\DataScience\\\\Python\\\\Github\\\\practice\\\\MachineLearning\\\\Udemy\\\\Data\\\\Part 8 - Deep Learning\\\\Section 40 - Convolutional Neural Networks (CNN)', ['Python', 'R_ No R implementation for CNN'], ['.DS_Store'])\n",
      "('C:\\\\Users\\\\ADMIN\\\\Documents\\\\DataScience\\\\Python\\\\Github\\\\practice\\\\MachineLearning\\\\Udemy\\\\Data\\\\Part 8 - Deep Learning\\\\Section 40 - Convolutional Neural Networks (CNN)\\\\Python', [], ['convolutional_neural_network.ipynb', 'convolutional_neural_network.py'])\n",
      "('C:\\\\Users\\\\ADMIN\\\\Documents\\\\DataScience\\\\Python\\\\Github\\\\practice\\\\MachineLearning\\\\Udemy\\\\Data\\\\Part 8 - Deep Learning\\\\Section 40 - Convolutional Neural Networks (CNN)\\\\R_ No R implementation for CNN', [], [])\n",
      "('C:\\\\Users\\\\ADMIN\\\\Documents\\\\DataScience\\\\Python\\\\Github\\\\practice\\\\MachineLearning\\\\Udemy\\\\Data\\\\Part 8 - Deep Learning\\\\Section 41 - Part Recap', [], [])\n",
      "('C:\\\\Users\\\\ADMIN\\\\Documents\\\\DataScience\\\\Python\\\\Github\\\\practice\\\\MachineLearning\\\\Udemy\\\\Data\\\\Part 9 - Dimensionality Reduction', ['Section 42 -------------------- Part 9 - Dimensionality Reduction --------------------', 'Section 43 - Principal Component Analysis (PCA)', 'Section 44 - Linear Discriminant Analysis (LDA)', 'Section 45 - Kernel PCA', 'Section 46 - Part Recap'], [])\n",
      "('C:\\\\Users\\\\ADMIN\\\\Documents\\\\DataScience\\\\Python\\\\Github\\\\practice\\\\MachineLearning\\\\Udemy\\\\Data\\\\Part 9 - Dimensionality Reduction\\\\Section 42 -------------------- Part 9 - Dimensionality Reduction --------------------', [], [])\n",
      "('C:\\\\Users\\\\ADMIN\\\\Documents\\\\DataScience\\\\Python\\\\Github\\\\practice\\\\MachineLearning\\\\Udemy\\\\Data\\\\Part 9 - Dimensionality Reduction\\\\Section 43 - Principal Component Analysis (PCA)', ['Python', 'R'], ['.DS_Store'])\n",
      "('C:\\\\Users\\\\ADMIN\\\\Documents\\\\DataScience\\\\Python\\\\Github\\\\practice\\\\MachineLearning\\\\Udemy\\\\Data\\\\Part 9 - Dimensionality Reduction\\\\Section 43 - Principal Component Analysis (PCA)\\\\Python', [], ['principal_component_analysis.ipynb', 'principal_component_analysis.py', 'Wine.csv'])\n",
      "('C:\\\\Users\\\\ADMIN\\\\Documents\\\\DataScience\\\\Python\\\\Github\\\\practice\\\\MachineLearning\\\\Udemy\\\\Data\\\\Part 9 - Dimensionality Reduction\\\\Section 43 - Principal Component Analysis (PCA)\\\\R', [], ['pca.R', 'Wine.csv'])\n",
      "('C:\\\\Users\\\\ADMIN\\\\Documents\\\\DataScience\\\\Python\\\\Github\\\\practice\\\\MachineLearning\\\\Udemy\\\\Data\\\\Part 9 - Dimensionality Reduction\\\\Section 44 - Linear Discriminant Analysis (LDA)', ['Python', 'R'], ['.DS_Store'])\n",
      "('C:\\\\Users\\\\ADMIN\\\\Documents\\\\DataScience\\\\Python\\\\Github\\\\practice\\\\MachineLearning\\\\Udemy\\\\Data\\\\Part 9 - Dimensionality Reduction\\\\Section 44 - Linear Discriminant Analysis (LDA)\\\\Python', [], ['linear_discriminant_analysis.ipynb', 'linear_discriminant_analysis.py', 'Wine.csv'])\n",
      "('C:\\\\Users\\\\ADMIN\\\\Documents\\\\DataScience\\\\Python\\\\Github\\\\practice\\\\MachineLearning\\\\Udemy\\\\Data\\\\Part 9 - Dimensionality Reduction\\\\Section 44 - Linear Discriminant Analysis (LDA)\\\\R', [], ['.DS_Store', 'lda.R', 'Wine.csv'])\n",
      "('C:\\\\Users\\\\ADMIN\\\\Documents\\\\DataScience\\\\Python\\\\Github\\\\practice\\\\MachineLearning\\\\Udemy\\\\Data\\\\Part 9 - Dimensionality Reduction\\\\Section 45 - Kernel PCA', ['Python', 'R'], ['.DS_Store'])\n",
      "('C:\\\\Users\\\\ADMIN\\\\Documents\\\\DataScience\\\\Python\\\\Github\\\\practice\\\\MachineLearning\\\\Udemy\\\\Data\\\\Part 9 - Dimensionality Reduction\\\\Section 45 - Kernel PCA\\\\Python', [], ['kernel_pca.ipynb', 'kernel_pca.py', 'Social_Network_Ads.csv'])\n",
      "('C:\\\\Users\\\\ADMIN\\\\Documents\\\\DataScience\\\\Python\\\\Github\\\\practice\\\\MachineLearning\\\\Udemy\\\\Data\\\\Part 9 - Dimensionality Reduction\\\\Section 45 - Kernel PCA\\\\R', [], ['kernel_pca.R', 'Social_Network_Ads.csv'])\n",
      "('C:\\\\Users\\\\ADMIN\\\\Documents\\\\DataScience\\\\Python\\\\Github\\\\practice\\\\MachineLearning\\\\Udemy\\\\Data\\\\Part 9 - Dimensionality Reduction\\\\Section 46 - Part Recap', [], [])\n"
     ]
    }
   ],
   "source": [
    "list_display1=os.walk(cwd)\n",
    "for i in list_display1:\n",
    "    print( i)"
   ]
  },
  {
   "cell_type": "code",
   "execution_count": 49,
   "metadata": {},
   "outputs": [
    {
     "name": "stdout",
     "output_type": "stream",
     "text": [
      "C:\\Users\\ADMIN\\Documents\\DataScience\\Python\\Github\\practice\\MachineLearning\\Udemy\n"
     ]
    }
   ],
   "source": [
    "print(cwd)"
   ]
  },
  {
   "cell_type": "code",
   "execution_count": 52,
   "metadata": {},
   "outputs": [
    {
     "ename": "SyntaxError",
     "evalue": "unexpected EOF while parsing (<ipython-input-52-152742723051>, line 5)",
     "output_type": "error",
     "traceback": [
      "\u001b[1;36m  File \u001b[1;32m\"<ipython-input-52-152742723051>\"\u001b[1;36m, line \u001b[1;32m5\u001b[0m\n\u001b[1;33m    print(os.listdir(*dataPath)\u001b[0m\n\u001b[1;37m                               ^\u001b[0m\n\u001b[1;31mSyntaxError\u001b[0m\u001b[1;31m:\u001b[0m unexpected EOF while parsing\n"
     ]
    }
   ],
   "source": [
    "dataPath= cwd + '\\Data'\n",
    "print(dataPath)\n",
    "desiredFolder=(os.listdir(dataPath))[2]\n",
    "print(desiredFolder)\n",
    "#print(os.listdir(dataPath)"
   ]
  },
  {
   "cell_type": "code",
   "execution_count": 47,
   "metadata": {},
   "outputs": [
    {
     "name": "stdout",
     "output_type": "stream",
     "text": [
      "C:\\Users\\ADMIN\\Documents\\DataScience\\Python\\Github\\practice\\MachineLearning\\Udemy\\DataPart 1 - Data Preprocessing\n"
     ]
    }
   ],
   "source": [
    "dataPath1=dataPath + desiredFolder\n",
    "print(dataPath1)"
   ]
  },
  {
   "cell_type": "raw",
   "metadata": {},
   "source": [
    "print(os.listdir(dataPath1))"
   ]
  },
  {
   "cell_type": "code",
   "execution_count": 48,
   "metadata": {},
   "outputs": [
    {
     "ename": "FileNotFoundError",
     "evalue": "[WinError 3] The system cannot find the path specified: 'C:\\\\Users\\\\ADMIN\\\\Documents\\\\DataScience\\\\Python\\\\Github\\\\practice\\\\MachineLearning\\\\Udemy\\\\DataPart 1 - Data Preprocessing'",
     "output_type": "error",
     "traceback": [
      "\u001b[1;31m---------------------------------------------------------------------------\u001b[0m",
      "\u001b[1;31mFileNotFoundError\u001b[0m                         Traceback (most recent call last)",
      "\u001b[1;32m<ipython-input-48-71bf28147634>\u001b[0m in \u001b[0;36m<module>\u001b[1;34m\u001b[0m\n\u001b[0;32m      1\u001b[0m \u001b[1;32mimport\u001b[0m \u001b[0mre\u001b[0m\u001b[1;33m\u001b[0m\u001b[1;33m\u001b[0m\u001b[0m\n\u001b[1;32m----> 2\u001b[1;33m \u001b[0mprint\u001b[0m\u001b[1;33m(\u001b[0m\u001b[0mos\u001b[0m\u001b[1;33m.\u001b[0m\u001b[0mlistdir\u001b[0m\u001b[1;33m(\u001b[0m\u001b[0mdataPath1\u001b[0m\u001b[1;33m)\u001b[0m\u001b[1;33m)\u001b[0m\u001b[1;33m\u001b[0m\u001b[1;33m\u001b[0m\u001b[0m\n\u001b[0m",
      "\u001b[1;31mFileNotFoundError\u001b[0m: [WinError 3] The system cannot find the path specified: 'C:\\\\Users\\\\ADMIN\\\\Documents\\\\DataScience\\\\Python\\\\Github\\\\practice\\\\MachineLearning\\\\Udemy\\\\DataPart 1 - Data Preprocessing'"
     ]
    }
   ],
   "source": [
    "import re\n",
    "print(os.listdir(dataPath1))"
   ]
  },
  {
   "cell_type": "code",
   "execution_count": 59,
   "metadata": {},
   "outputs": [
    {
     "name": "stdout",
     "output_type": "stream",
     "text": [
      ".DS_Store\n",
      "Part 0 - Welcome to Machine Learning A-Z\n",
      "Part 1 - Data Preprocessing\n",
      "Part 10 - Model Selection & Boosting\n",
      "Part 10 - Model Selection _ Boosting\n",
      "Part 2 - Regression\n",
      "Part 3 - Classification\n",
      "Part 4 - Clustering\n",
      "Part 5 - Association Rule Learning\n",
      "Part 6 - Reinforcement Learning\n",
      "Part 7 - Natural Language Processing\n",
      "Part 8 - Deep Learning\n",
      "Part 9 - Dimensionality Reduction\n",
      "Part1DataPreprocessing\n"
     ]
    }
   ],
   "source": [
    "for i in os.listdir(dataPath):\n",
    "    print(i)\n",
    "    if 'DataPreprocessing' in i:\n",
    "        dataPath1=dataPath+'\\\\' + i"
   ]
  },
  {
   "cell_type": "code",
   "execution_count": 60,
   "metadata": {},
   "outputs": [
    {
     "name": "stdout",
     "output_type": "stream",
     "text": [
      "C:\\Users\\ADMIN\\Documents\\DataScience\\Python\\Github\\practice\\MachineLearning\\Udemy\\Data\\Part1DataPreprocessing\n"
     ]
    }
   ],
   "source": [
    "print(dataPath1)"
   ]
  },
  {
   "cell_type": "code",
   "execution_count": 64,
   "metadata": {},
   "outputs": [
    {
     "name": "stdout",
     "output_type": "stream",
     "text": [
      "File name :     Data.csv\n",
      "Directory Name:      \n"
     ]
    }
   ],
   "source": [
    "import os\n",
    " \n",
    "print('File name :    ', os.path.basename('Data.csv'))\n",
    "print('Directory Name:     ', os.path.dirname('Data.csv'))"
   ]
  },
  {
   "cell_type": "code",
   "execution_count": 66,
   "metadata": {},
   "outputs": [
    {
     "name": "stdout",
     "output_type": "stream",
     "text": [
      "Absolute path of file:      C:\\Users\\ADMIN\\Documents\\DataScience\\Python\\Github\\practice\\MachineLearning\\Udemy\\Data.csv\n",
      "Absolute directoryname:  C:\\Users\\ADMIN\\Documents\\DataScience\\Python\\Github\\practice\\MachineLearning\\Udemy\n"
     ]
    }
   ],
   "source": [
    "\n",
    "print('Absolute path of file:     ',\n",
    "      os.path.abspath('Data.csv'))\n",
    "print('Absolute directoryname: ',\n",
    "      os.path.dirname(os.path.abspath('Data.csv')))"
   ]
  },
  {
   "cell_type": "code",
   "execution_count": 9,
   "metadata": {},
   "outputs": [
    {
     "name": "stdout",
     "output_type": "stream",
     "text": [
      "Path of the file.. C:\\Users\\ADMIN\\Documents\\DataScience\\Python\\Github\\practice\\MachineLearning\\Udemy\\Data.csv\n",
      "C:\\Users\\ADMIN\\Documents\\DataScience\\Python\\Github\\practice\\MachineLearning\\Udemy\\Data\\Part1DataPreprocessing\\Data.csv\n"
     ]
    }
   ],
   "source": [
    "\n",
    "import os\n",
    "pythonfile = 'Data.csv'\n",
    " \n",
    "# if the file is present in current directory,\n",
    "# then no need to specify the whole location\n",
    "print(\"Path of the file..\", os.path.abspath(pythonfile))\n",
    " \n",
    "for root, dirs, files in os.walk(cwd):\n",
    "    for name in files:\n",
    "       \n",
    "          # As we need to get the provided python file,\n",
    "        # comparing here like this\n",
    "        if name == pythonfile: \n",
    "            combinedPath=os.path.abspath(os.path.join(root, name))\n",
    "            if 'Part1DataPreprocessing' in root:\n",
    "                finalPath=os.path.abspath(os.path.join(root, name))\n",
    "               \n",
    "                print(finalPath)"
   ]
  },
  {
   "cell_type": "code",
   "execution_count": 10,
   "metadata": {},
   "outputs": [],
   "source": [
    "import pandas as pd"
   ]
  },
  {
   "cell_type": "code",
   "execution_count": 11,
   "metadata": {},
   "outputs": [
    {
     "data": {
      "text/html": [
       "<div>\n",
       "<style scoped>\n",
       "    .dataframe tbody tr th:only-of-type {\n",
       "        vertical-align: middle;\n",
       "    }\n",
       "\n",
       "    .dataframe tbody tr th {\n",
       "        vertical-align: top;\n",
       "    }\n",
       "\n",
       "    .dataframe thead th {\n",
       "        text-align: right;\n",
       "    }\n",
       "</style>\n",
       "<table border=\"1\" class=\"dataframe\">\n",
       "  <thead>\n",
       "    <tr style=\"text-align: right;\">\n",
       "      <th></th>\n",
       "      <th>Country</th>\n",
       "      <th>Age</th>\n",
       "      <th>Salary</th>\n",
       "      <th>Purchased</th>\n",
       "    </tr>\n",
       "  </thead>\n",
       "  <tbody>\n",
       "    <tr>\n",
       "      <th>0</th>\n",
       "      <td>France</td>\n",
       "      <td>44.0</td>\n",
       "      <td>72000.0</td>\n",
       "      <td>No</td>\n",
       "    </tr>\n",
       "    <tr>\n",
       "      <th>1</th>\n",
       "      <td>Spain</td>\n",
       "      <td>27.0</td>\n",
       "      <td>48000.0</td>\n",
       "      <td>Yes</td>\n",
       "    </tr>\n",
       "    <tr>\n",
       "      <th>2</th>\n",
       "      <td>Germany</td>\n",
       "      <td>30.0</td>\n",
       "      <td>54000.0</td>\n",
       "      <td>No</td>\n",
       "    </tr>\n",
       "    <tr>\n",
       "      <th>3</th>\n",
       "      <td>Spain</td>\n",
       "      <td>38.0</td>\n",
       "      <td>61000.0</td>\n",
       "      <td>No</td>\n",
       "    </tr>\n",
       "    <tr>\n",
       "      <th>4</th>\n",
       "      <td>Germany</td>\n",
       "      <td>40.0</td>\n",
       "      <td>NaN</td>\n",
       "      <td>Yes</td>\n",
       "    </tr>\n",
       "    <tr>\n",
       "      <th>5</th>\n",
       "      <td>France</td>\n",
       "      <td>35.0</td>\n",
       "      <td>58000.0</td>\n",
       "      <td>Yes</td>\n",
       "    </tr>\n",
       "    <tr>\n",
       "      <th>6</th>\n",
       "      <td>Spain</td>\n",
       "      <td>NaN</td>\n",
       "      <td>52000.0</td>\n",
       "      <td>No</td>\n",
       "    </tr>\n",
       "    <tr>\n",
       "      <th>7</th>\n",
       "      <td>France</td>\n",
       "      <td>48.0</td>\n",
       "      <td>79000.0</td>\n",
       "      <td>Yes</td>\n",
       "    </tr>\n",
       "    <tr>\n",
       "      <th>8</th>\n",
       "      <td>Germany</td>\n",
       "      <td>50.0</td>\n",
       "      <td>83000.0</td>\n",
       "      <td>No</td>\n",
       "    </tr>\n",
       "    <tr>\n",
       "      <th>9</th>\n",
       "      <td>France</td>\n",
       "      <td>37.0</td>\n",
       "      <td>67000.0</td>\n",
       "      <td>Yes</td>\n",
       "    </tr>\n",
       "  </tbody>\n",
       "</table>\n",
       "</div>"
      ],
      "text/plain": [
       "   Country   Age   Salary Purchased\n",
       "0   France  44.0  72000.0        No\n",
       "1    Spain  27.0  48000.0       Yes\n",
       "2  Germany  30.0  54000.0        No\n",
       "3    Spain  38.0  61000.0        No\n",
       "4  Germany  40.0      NaN       Yes\n",
       "5   France  35.0  58000.0       Yes\n",
       "6    Spain   NaN  52000.0        No\n",
       "7   France  48.0  79000.0       Yes\n",
       "8  Germany  50.0  83000.0        No\n",
       "9   France  37.0  67000.0       Yes"
      ]
     },
     "execution_count": 11,
     "metadata": {},
     "output_type": "execute_result"
    }
   ],
   "source": [
    "pd.read_csv(finalPath)"
   ]
  },
  {
   "cell_type": "code",
   "execution_count": null,
   "metadata": {},
   "outputs": [],
   "source": []
  }
 ],
 "metadata": {
  "kernelspec": {
   "display_name": "Python 3",
   "language": "python",
   "name": "python3"
  },
  "language_info": {
   "codemirror_mode": {
    "name": "ipython",
    "version": 3
   },
   "file_extension": ".py",
   "mimetype": "text/x-python",
   "name": "python",
   "nbconvert_exporter": "python",
   "pygments_lexer": "ipython3",
   "version": "3.7.3"
  }
 },
 "nbformat": 4,
 "nbformat_minor": 2
}
