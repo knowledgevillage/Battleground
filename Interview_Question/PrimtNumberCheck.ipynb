{
 "cells": [
  {
   "cell_type": "code",
   "execution_count": null,
   "metadata": {},
   "outputs": [],
   "source": [
    "i,temp=0,0\n",
    "n = int(input(\"please give a number : \"))\n",
    "for i in range(2,n//2):\n",
    "    if n%i == 0:\n",
    "        temp=1\n",
    "        break\n",
    "if temp == 1:\n",
    "    print(\"given number is not prime\")\n",
    "else:\n",
    "    print(\"given number is prime\") "
   ]
  }
 ],
 "metadata": {
  "kernelspec": {
   "display_name": "Python 3",
   "language": "python",
   "name": "python3"
  },
  "language_info": {
   "codemirror_mode": {
    "name": "ipython",
    "version": 3
   },
   "file_extension": ".py",
   "mimetype": "text/x-python",
   "name": "python",
   "nbconvert_exporter": "python",
   "pygments_lexer": "ipython3",
   "version": "3.7.3"
  }
 },
 "nbformat": 4,
 "nbformat_minor": 2
}
